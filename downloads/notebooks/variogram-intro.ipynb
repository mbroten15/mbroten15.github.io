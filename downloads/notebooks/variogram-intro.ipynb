{
 "cells": [
  {
   "cell_type": "markdown",
   "metadata": {},
   "source": [
    "# An introduction to variograms"
   ]
  },
  {
   "cell_type": "markdown",
   "metadata": {},
   "source": [
    "How do you quantify spacial continuity? With a variogram, of course. A variogram, or semi-variogram to be specific, measures the variance as lag distance changes. Before I get into an example, let me take some time to explain the theory. \n",
    "\n",
    "## Example 1: "
   ]
  },
  {
   "cell_type": "markdown",
   "metadata": {},
   "source": [
    "## Experimental Variogram: Theory \n",
    "\n",
    "> A **variogram** is a measure of dissimilarity over distance. It shows how two data points are correlated from a spatial perspective, and provides useful insights when trying to estimate the value of an unknown location using collected sample data from other locations.\n",
    "\n",
    "\n",
    "The variogram fuction is defined by:\n",
    "<div class=\"row\">\n",
    "    <div class=\"col-12\">\n",
    "        $$\\gamma(h) = \\frac{1}{2N(h)}\\sum_{\\alpha =1}^{N(h)}\\left ( z(u_{\\alpha })-z(u_{\\alpha} + h) \\right)^2$$ \n",
    "    </div>\n",
    "</div>\n",
    "\n",
    "**What makes a variogram useful in spacial statistics is that it can show you insights that mean, median, and standard deviation cannot capture.** Example 3 will show this, but first, let's see how to create "
   ]
  },
  {
   "cell_type": "markdown",
   "metadata": {},
   "source": [
    "## Example 2: Rock Permeability in a Sedimentary System\n",
    "\n",
    "Let's assume we have the truth model of a cross section of permeability in a sedimentary zone. Notice how as you move up or down, we see waves of high permeability that move across. If we focus in on one point in the system, you would expect that we maintain a high degree of correlation if we move in the x direction, and we would start to lose correlation quickly as we moved in the y direction. "
   ]
  }
 ],
 "metadata": {
  "kernelspec": {
   "display_name": "Python 3",
   "language": "python",
   "name": "python3"
  },
  "language_info": {
   "codemirror_mode": {
    "name": "ipython",
    "version": 3
   },
   "file_extension": ".py",
   "mimetype": "text/x-python",
   "name": "python",
   "nbconvert_exporter": "python",
   "pygments_lexer": "ipython3",
   "version": "3.7.0"
  }
 },
 "nbformat": 4,
 "nbformat_minor": 2
}
