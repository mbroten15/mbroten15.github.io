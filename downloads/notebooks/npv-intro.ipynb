{
 "cells": [
  {
   "cell_type": "markdown",
   "metadata": {},
   "source": [
    "If you're running a business or working for a company, you'll quickly learn that you need to spend money to make money. There's a balancing act between how much money to spend and how much money you will make. The question is, how do we quantify this so we can easily compare how valueable a potential project is? This is where net present value can be applied. Net present value (NPV) is a commonly used metric in finance and accounting to evaluate and compare anything that involves cash flow, such as loans, investments, and business projects. "
   ]
  },
  {
   "cell_type": "markdown",
   "metadata": {},
   "source": [
    "## Net Present Value"
   ]
  },
  {
   "cell_type": "markdown",
   "metadata": {},
   "source": [
    "The benefit of using NPV to evaluate capital projects is that in takes into consideration the time value of money: a dollar today is worth more than a dollar tommorow. Net present value is defined by:\n",
    "<div id=\"eq-1\">$$ NPV = \\sum_{i= 0}^n\\frac{C_i}{(1 + r)^i}\\\\ \\tag{1.1}$$</div>\n",
    "<div>$\\textbf{where:} \\\\ C_i = \\text{The cash inflow/outflow for period } \\textit{i} \\\\ r = \\text{The discount rate} \\\\ i = \\text{The number of periods} \\\\$</div>\n",
    "\n",
    "Another way of saying this is:\n",
    "\n",
    "<div>$$ \\\\ \\\\ NPV = \\text{The sum of the present value of all future cash flows} - \\text{The initial investment} \\\\$$ </div>\n"
   ]
  },
  {
   "cell_type": "markdown",
   "metadata": {},
   "source": [
    "The present value of each cash flow is discounted by discount rate ($r$). This discount rate ($r$) is determined by the minumum return on investment desired. For a project to be considered economic using the NPV method, the NPV must be 0 or greater. Having an NPV of 0 does not mean that the project breaks even, it means that the project earns the minimum required rate of return. A positive NPV means that the project earns more than the required rate of return, or the required rate of return plus the dollar value of NPV. A negative NPV means that the project returns less that the minimun required rate of return, and therefore loses money.\n",
    "\n",
    "<table class=\"jupyter-markdown-table\" style=\"font-size: 2rem\">\n",
    "   <thead>\n",
    "      <tr>\n",
    "         <th class=\"text-center\"></th>\n",
    "         <th class=\"text-center\"></th>\n",
    "      </tr>\n",
    "   </thead>\n",
    "   <tbody class=\"table-hover\">\n",
    "      <tr>\n",
    "         <td class=\"text-center\">$NPV<0$</td>\n",
    "         <td class=\"text-center\">Project loses value, reject</td>\n",
    "      </tr>\n",
    "      <tr>\n",
    "         <td class=\"text-center\">$NPV=0$</td>\n",
    "         <td class=\"text-center\">Project does not add or lose value, accept if no value adding projects are available</td>\n",
    "      </tr>\n",
    "      <tr>\n",
    "          <td class=\"text-center\">$NPV>0$</td>\n",
    "          <td class=\"text-center\">Project adds value, accept</td>\n",
    "       </tr>\n",
    "   </tbody>\n",
    "</table>\n",
    "\n"
   ]
  },
  {
   "cell_type": "markdown",
   "metadata": {},
   "source": [
    "## What is the meaning of discount rate?"
   ]
  },
  {
   "cell_type": "markdown",
   "metadata": {},
   "source": [
    "All cash flows are discounted by the discount rate, r, when used in the NPV formula. But what is the meaning of discount rate? The discount rate captures the concept of future dollars not being as valuable as present dollars. Therefore, to determine the present value of all future cash flows, each individual cash flow is devalued as a function of the time from present and the discount rate. For example. If you will recieve \\$1,000 a year from now, and your discount rate is 10\\% a year, discounted yearly, then its present value is \\\\$900, or \\\\$1000 less 10\\% of \\\\$1000. If the \\\\$1000 you are receiving is not coming until 2 years from now, then you must discount it twice, the present value will now be \\\\$810.\n",
    "\n",
    "How is this discount rate determined? The discount rate is determined by the minumum return on investment that the investor wants. This may be influenced by things such as how the company is being financed or how much the return on investment is on relatively safe projects. The lower you set your discount rate, the more projects will be economical because of the lower required rate of return on investment. "
   ]
  },
  {
   "cell_type": "markdown",
   "metadata": {},
   "source": [
    "## Let's see an example of NPV"
   ]
  },
  {
   "cell_type": "markdown",
   "metadata": {},
   "source": [
    "Let's say that you own a factory that makes dog toys. You want to buy a new machine to manufacture toys that costs \\\\$100,000 to implement, but it will provide cash flows of \\\\$30,000 per year for 5 years. Your discount rate is 10\\%. What is the net present value (NPV) of this project and should you implement it? \n",
    "\n",
    "### Step 1: Identify all cash flows\n",
    "\n",
    "As we can recall from <a href=\"#eq-1\">equation 1</a>, NPV is a function of cash flows, discount rate, and periods (time). The first thing we must do is identify all cash flows. From the problem, there is a cash flow of \\\\$30,000 each year, and this project lasts 5 years, so for time periods 1-5 we have a postive cash flow of \\\\$30,000. We also have to consider that there is a cash flow at time 0, which is the initial investment cost of \\\\$100,000. \n",
    "\n",
    "### Step 2: Evaluate the NPV of the project\n",
    "\n",
    "Let's plug our cash flows into the <a href=\"#eq-1\">equation</a> we defined earlier, using a discount rate of 10\\%:\n",
    "\n",
    "<div id= \"eq-2\">$$ NPV = \\sum_{i= 0}^n\\frac{C_i}{(1 + r)^i} = \\frac{-100,000}{(1 + 0.1)^0} + \\frac{30,000}{(1 + 0.1)^1} + \\frac{30,000}{(1 + 0.1)^2} + \\frac{30,000}{(1 + 0.1)^3} + \\frac{30,000}{(1 + 0.1)^4} + \\frac{30,000}{(1 + 0.1)^5} \\tag{2.1}$$</div>\n",
    "\n",
    "From here, we can sum up the value of all cash inflow/outflows\n",
    "\n",
    "<div id= \"eq-3\">$$ NPV = \\sum_{i= 0}^n\\frac{C_i}{(1 + r)^i} = -$100,000 + $27,000 + $24,000 + $21,000 + $18,000 + $15,000 = $5,000 \\tag{2.2}$$</div>\n",
    "\n",
    "Even though the cash inflow each year is \\$30,000, due to the time value of money each cash flow is worth less in future dollars. This is why it's best to earn cash sooner rather than later!\n",
    "\n",
    "<div id=\"fig-1\" class=\"row give-margin-inline-plot\">\n",
    "    <div class=\"col-12\"><img src=\"jupyter_images/npv.png\"></div>\n",
    "    <div class=\"col-12\"><p class=\"image-description\">Figure 1: $30,000 Cash inflow of project, discounted to present value </p></div>    \n",
    "</div>\n",
    "\n",
    "Our net present value for the project is 5,000, which means that this project returns the required 10 percent each year, plus an additional 5,000. According for our rules of evalating projects by net present value, we would accept this project. You're happy, and so are the dogs!\n",
    "\n",
    "\n",
    "\n",
    "<a href=\"#fig-1\">fig 1</a>"
   ]
  },
  {
   "cell_type": "markdown",
   "metadata": {},
   "source": [
    "Net Present Value, or NPV, is an effective way to evaulate captital projects. Because it makes sure you're considering that dollars earned in the future are less valuable than dollars earned now, NPV makes sure you know whether a project is worth your time."
   ]
  },
  {
   "cell_type": "code",
   "execution_count": null,
   "metadata": {},
   "outputs": [],
   "source": []
  }
 ],
 "metadata": {
  "kernelspec": {
   "display_name": "Python 3",
   "language": "python",
   "name": "python3"
  },
  "language_info": {
   "codemirror_mode": {
    "name": "ipython",
    "version": 3
   },
   "file_extension": ".py",
   "mimetype": "text/x-python",
   "name": "python",
   "nbconvert_exporter": "python",
   "pygments_lexer": "ipython3",
   "version": "3.7.0"
  }
 },
 "nbformat": 4,
 "nbformat_minor": 2
}
